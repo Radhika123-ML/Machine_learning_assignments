{
 "cells": [
  {
   "cell_type": "markdown",
   "metadata": {},
   "source": [
    "# Machine_learning_assignment1 "
   ]
  },
  {
   "cell_type": "raw",
   "metadata": {},
   "source": [
    "1. What does one mean by the term \"machine learning\"?\n",
    "\n",
    "answer:capability of machine to immitate intellegent human behaviour is called machine learning, it is considered as subfield of artificial intellegence.\n"
   ]
  },
  {
   "cell_type": "raw",
   "metadata": {},
   "source": [
    "2.Can you think of 4 distinct types of issues where it shines?\n",
    "\n",
    "answer: 1)fraud prediction\n",
    "         2)cancer prediction\n",
    "         3)movie recommendation\n",
    "         4)spam detection\n"
   ]
  },
  {
   "cell_type": "raw",
   "metadata": {},
   "source": [
    "3.What is a labeled training set, and how does it work?\n",
    "\n",
    "answer:training set is the observed set of examples trained through algorithms,training data infers something about the process that generated data.\n",
    "\n",
    "\n"
   ]
  },
  {
   "cell_type": "raw",
   "metadata": {},
   "source": [
    "4.What are the two most important tasks that are supervised?\n",
    "\n",
    "answer:regression (output is in the form of a scalar quantity)\n",
    "       classification(output is in the form of 0 or 1)\n",
    "\n",
    "\n"
   ]
  },
  {
   "cell_type": "raw",
   "metadata": {},
   "source": [
    "5.Can you think of four examples of unsupervised tasks?\n",
    "\n",
    "answer:1)clustering \n",
    "       2)visualization\n",
    "       3)dimensionality reduction \n",
    "       4)association rule learning.\n",
    "\n",
    "\n"
   ]
  },
  {
   "cell_type": "raw",
   "metadata": {},
   "source": [
    "6.State the machine learning model that would be best to make a robot walk through various unfamiliar terrains?\n",
    "\n",
    "answer:reinforcement learning\n",
    "\n",
    "\n"
   ]
  },
  {
   "cell_type": "raw",
   "metadata": {},
   "source": [
    "7.Which algorithm will you use to divide your customers into different groups?\n",
    "\n",
    "answer:i would prefer to use clustering algorithms like DB scan, k means clustering.\n",
    "\n",
    "\n",
    "\n",
    "\n"
   ]
  },
  {
   "cell_type": "raw",
   "metadata": {},
   "source": [
    "8.Will you consider the problem of spam detection to be a supervised or unsupervised learning problem?\n",
    "\n",
    "answer:i would consider it as supervised since to detect spam it already needs to have an idea of what is a apam and what isn't a spam.\n"
   ]
  },
  {
   "cell_type": "raw",
   "metadata": {},
   "source": [
    "9.What is the concept of an online learning system?\n",
    "\n",
    "answer:in online learning system the availability of data (online data) is sequential ,where the system is updated by best predictors for the future data.here, the whole training dataset is not relevent to generate the predictor.\n",
    "\n",
    "\n"
   ]
  },
  {
   "cell_type": "raw",
   "metadata": {},
   "source": [
    "10.What is out-of-core learning, and how does it differ from core learning?\n",
    "\n",
    "answer:the concept of out of core learning is somewhat so similar to that of online learning system where the learning is incremental from the small batches of data since the data is too large for the computer memory .here the data is not provided at once as training dataset.\n",
    "\n"
   ]
  },
  {
   "cell_type": "raw",
   "metadata": {},
   "source": [
    "11.What kind of learning algorithm makes predictions using a similarity measure?\n",
    "\n",
    "answer: instance based algorithm makes predictions using a similarity measure.\n",
    "\n",
    "\n"
   ]
  },
  {
   "cell_type": "raw",
   "metadata": {},
   "source": [
    "12.What's the difference between a model parameter and a hyperparameter in a learning algorithm?\n",
    "\n",
    "answer:model parameters is relevent in determining the prediction given by the model when a new data is fed\n",
    "\n",
    "Model parameter determines how a model will predict given a new instance; model usually has more than one parameter (i.e. slope of a linear model). Hyperparameter is a parameter for the learning algorithm, not of a model.\n",
    "\n"
   ]
  },
  {
   "cell_type": "raw",
   "metadata": {},
   "source": [
    "13.What are the criteria that model-based learning algorithms look for? What is the most popular method they use to achieve success? What method do they use to make predictions?\n",
    "\n",
    "answer:Model based learning algorithm search for the most favourable value of parameters in a model that will give the best results for the new instances. We often use a cost function or similar to determine what the parameter value has to be in order to minimize the function. The model makes prediction by using the value of the new instance and the parameters in its function\n",
    "\n"
   ]
  },
  {
   "cell_type": "raw",
   "metadata": {},
   "source": [
    "14.Can you name four of the most important Machine Learning challenges?\n",
    "\n",
    "answer:1)overfitting\n",
    "       2)underfitting\n",
    "       3)irrelevent feature\n",
    "       4)not having enough data\n",
    "\n"
   ]
  },
  {
   "cell_type": "raw",
   "metadata": {},
   "source": [
    "15.What happens if the model performs well on the training data but fails to generalize the results to new situations? Can you think of three different options?\n",
    "\n",
    "\n",
    "answer) its the issue of overfit and it can be resolved by following ways\n",
    "        1)by implementing simple model\n",
    "        2)removing outliers\n",
    "        3)feeding more data\n"
   ]
  },
  {
   "cell_type": "raw",
   "metadata": {},
   "source": [
    "16.What exactly is a test set, and why would you need one?\n",
    "\n",
    "answer: in order to know the performance of the model we use test data.it use inference of the train data to make prediction about unseen data.\n",
    "\n",
    "\n"
   ]
  },
  {
   "cell_type": "raw",
   "metadata": {},
   "source": [
    "17.What is a validation set's purpose?\n",
    "\n",
    "answer: the purpose of validation set is to compare the training models and find out the best model.\n",
    "\n",
    "\n",
    "\n"
   ]
  },
  {
   "cell_type": "raw",
   "metadata": {},
   "source": [
    "18.What precisely is the train-dev kit, when will you need it, how do you put it to use?\n",
    "\n",
    "answers:train-dev are the datasets for decision making;train data decides the parametric aspect of training a model whereas dev set compares the models in terms of accuracy.we put it to use by splitting the dataset into train,dev and test set.we have to make sure that the train data should be large enough to reach the perfection while training the model.the ratio of train ,dev and test should be 70, 20, 10 respectively.\n",
    "\n",
    "\n"
   ]
  },
  {
   "cell_type": "raw",
   "metadata": {},
   "source": [
    "19.What could go wrong if you use the test set to tune hyperparameters?\n",
    "\n",
    "answers:if happens so then the new data would not give accurate outputs since the hyperparameter tuning has been done only for test data and the model is not trained to do so."
   ]
  }
 ],
 "metadata": {
  "kernelspec": {
   "display_name": "Python 3",
   "language": "python",
   "name": "python3"
  },
  "language_info": {
   "codemirror_mode": {
    "name": "ipython",
    "version": 3
   },
   "file_extension": ".py",
   "mimetype": "text/x-python",
   "name": "python",
   "nbconvert_exporter": "python",
   "pygments_lexer": "ipython3",
   "version": "3.8.5"
  }
 },
 "nbformat": 4,
 "nbformat_minor": 4
}
