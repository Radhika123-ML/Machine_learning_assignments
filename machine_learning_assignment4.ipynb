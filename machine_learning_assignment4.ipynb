{
 "cells": [
  {
   "cell_type": "markdown",
   "metadata": {},
   "source": [
    "# machine_learning_assignment4"
   ]
  },
  {
   "cell_type": "raw",
   "metadata": {},
   "source": [
    "1. What are the key tasks involved in getting ready to work with machine learning modeling?\n",
    "\n",
    "answer:Collect Data---->Prepare the data---->Choose the model----> Train your machine model---->Evaluation---->                        Parameter Tuning---->Prediction or Inference\n",
    "\n"
   ]
  },
  {
   "cell_type": "raw",
   "metadata": {},
   "source": [
    "2. What are the different forms of data used in machine learning? Give a specific example for each of them.\n",
    "\n",
    "answer: qualitative data---1)numerical data-e.g)height,weight\n",
    "                           2)categorical data-e.g)ratings\n",
    "                           3)time series data-e.g)stock market,sales\n",
    "                           4)text data-e.g)twitter comment\n"
   ]
  },
  {
   "cell_type": "raw",
   "metadata": {},
   "source": [
    "3. Distinguish:\n",
    "\n",
    "           1. Numeric vs. categorical attributes\n",
    "\n",
    "            2. Feature selection vs. dimensionality reduction\n",
    "\n",
    "answer:1) numerical vs categorical attributes:\n",
    "        numerical attributes are the kind of data or attributes which is colllected in the form of numbers only.it is also known         as quantitative data.this is used in the form of data which keeps a record such as height and weight of students in a           classroom,their age,etc\n",
    "        categorical attributes are the data types which do not have any mathematical meaning and which can be stored into               categories and groups. e.g:rating of a restaurant\n",
    "          \n",
    "       2) Feature selection vs. dimentionality reduction:\n",
    "       feature selection is the process of selecting correct features of the data and discarding the redundant features which in        not relevent for the model construction.\n",
    "       dimentionality reduction is a technique to reduce the number of input variable,since the larger dimention of data may not        be good for the model. the reduced dimentions of a dataset retains some important propertios of dataset.\n",
    "       \n",
    "        \n",
    "       \n"
   ]
  },
  {
   "cell_type": "raw",
   "metadata": {},
   "source": [
    "4. Make quick notes on any two of the following:\n",
    "\n",
    "            1. The histogram\n",
    "\n",
    "             2. Use a scatter plot\n",
    "\n",
    "              3.PCA (Personal Computer Aid)\n",
    "answer:\n",
    "1.The histrogram:\n",
    "Histogram is a commonly used bar graph which is used to represent the distribution of the frequency of datapoints.In histogram bins(bars) are used,these bins are the range of numbers,the taller the bins the more the frequency.\n",
    "\n",
    "2.scatter plot: A scatter plot uses dots to represent values for two different numeric variables. The position of each dot on the horizontal and vertical axis indicates values for an individual data point. Scatter plots are used to observe relationships between variables.\n",
    "\n"
   ]
  },
  {
   "cell_type": "raw",
   "metadata": {},
   "source": [
    "5. Why is it necessary to investigate data? Is there a discrepancy in how qualitative and quantitative data are explored?\n",
    "\n",
    "answer:data investigation is important to build a better model.If the data will be messy it will result into issues in building model.there are few discrepancy in handling qualitative and quantitative data,for example in filling the null data we can use mean in quantitative data wheread in qualitative data we would prefer to use mode.\n"
   ]
  },
  {
   "cell_type": "raw",
   "metadata": {},
   "source": [
    "6. What are the various histogram shapes? What exactly are ‘bins'?\n",
    "\n",
    "answer: various shapes of histograms are:\n",
    "        1.bell curved\n",
    "        2.skewed\n",
    "        3.uniform\n",
    "        4.bimodel\n",
    "        5.multimodel\n",
    "\n"
   ]
  },
  {
   "cell_type": "raw",
   "metadata": {},
   "source": [
    "7. How do we deal with data outliers?\n",
    "\n",
    "answer:various methods to deal with outliers are:\n",
    "      1.minkowski error-through this we can reduce the contribution of outliers in training process.\n",
    "      2.univariate method-detects the outliers.\n",
    "      3.multivariate method-detects the unusual combination of all thr variables.\n",
    "      4.z-score-normalize the data(changes the scale)\n",
    "      5.IQR score-filters the outliers\n",
    "      6.quantile function-it removes mentioned amount of data.\n",
    "      \n",
    "      \n",
    "      \n",
    "      \n",
    "    "
   ]
  },
  {
   "cell_type": "raw",
   "metadata": {},
   "source": [
    "\n",
    "8. What are the various central inclination measures? Why does mean vary too much from median in certain data sets?\n",
    "\n",
    "answer:various central inclination measures are  1.mean\n",
    "                                                 2.median\n",
    "                                                 3.mode\n",
    "sometimes mean varies too much because of outliers.\n"
   ]
  },
  {
   "cell_type": "raw",
   "metadata": {},
   "source": [
    "9. Describe how a scatter plot can be used to investigate bivariate relationships. Is it possible to find outliers using a scatter plot?\n",
    "\n",
    "answer: the dots in a scatterplot varies wrt x axis and y axis which represents two different variables,and that is why it represents bivariate relationship.\n",
    " scatterplot does show the dots which are located at some distance which is too far from the average dots.\n",
    "\n"
   ]
  },
  {
   "cell_type": "raw",
   "metadata": {},
   "source": [
    "10. Describe how cross-tabs can be used to figure out how two variables are related.\n",
    "\n",
    "answer: cross tabs are the tabuler representation of multiple variables.it helps to analyze the correlation between these multiple variables,It also shows how correlations change from one variable grouping to another.\n"
   ]
  },
  {
   "cell_type": "code",
   "execution_count": null,
   "metadata": {},
   "outputs": [],
   "source": []
  },
  {
   "cell_type": "code",
   "execution_count": null,
   "metadata": {},
   "outputs": [],
   "source": []
  }
 ],
 "metadata": {
  "kernelspec": {
   "display_name": "Python 3",
   "language": "python",
   "name": "python3"
  },
  "language_info": {
   "codemirror_mode": {
    "name": "ipython",
    "version": 3
   },
   "file_extension": ".py",
   "mimetype": "text/x-python",
   "name": "python",
   "nbconvert_exporter": "python",
   "pygments_lexer": "ipython3",
   "version": "3.8.5"
  }
 },
 "nbformat": 4,
 "nbformat_minor": 4
}
